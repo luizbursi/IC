{
 "cells": [
  {
   "cell_type": "code",
   "execution_count": 53,
   "id": "8347214c",
   "metadata": {},
   "outputs": [],
   "source": [
    "#este código irá extrair as informações dos arquivos '.pkl', classificá-los e montar um dataframe para melhor\n",
    "#visualização da informação obtida"
   ]
  },
  {
   "cell_type": "code",
   "execution_count": 54,
   "id": "cd5560c7",
   "metadata": {},
   "outputs": [],
   "source": [
    "#bibliotecas que serão usadas\n",
    "import pickle #manipulação de arquivos\n",
    "import os, sys #criação de listas a partir de um diretório do sistema\n",
    "import numpy as np #manipulação de array\n",
    "from sklearn.discriminant_analysis import LinearDiscriminantAnalysis #classificador LDA\n",
    "from sklearn.neighbors import KNeighborsClassifier #classificador KNN\n",
    "from sklearn.model_selection import cross_val_score #método de classificação com cross validation\n",
    "from sklearn.model_selection import train_test_split\n",
    "from sklearn import svm #classificador SVM\n",
    "import pandas as pd #manipulação de tabela (dataframe)"
   ]
  },
  {
   "cell_type": "code",
   "execution_count": 55,
   "id": "bad9738b",
   "metadata": {},
   "outputs": [],
   "source": [
    "#path para os .pkl\n",
    "path_pkl = \"C:/Users/oluiz/OneDrive/Documentos/IC/Pickles/kthtips2b/\"\n",
    "dirs_pkl = [file for file in os.listdir(path_pkl) if not file.endswith('CLASS.pkl')]\n",
    "classepkl = [file for file in os.listdir(path_pkl) if file.endswith('CLASS.pkl')]\n",
    "classepkl = classepkl[0]"
   ]
  },
  {
   "cell_type": "code",
   "execution_count": 56,
   "id": "ed4d6f53",
   "metadata": {},
   "outputs": [],
   "source": [
    "#matriz com as classes \n",
    "with open(path_pkl+classepkl, \"rb\") as fc:\n",
    "    classes = pickle.load(fc)\n",
    "classes = classes[\"class\"]\n",
    "classes = np.array(classes)"
   ]
  },
  {
   "cell_type": "code",
   "execution_count": 57,
   "id": "fd5a8c80",
   "metadata": {},
   "outputs": [],
   "source": [
    "#classificadores \n",
    "knn = KNeighborsClassifier(n_neighbors=1)\n",
    "lda = LinearDiscriminantAnalysis()\n",
    "svmc = svm.SVC()"
   ]
  },
  {
   "cell_type": "code",
   "execution_count": 58,
   "id": "a6e0a39b",
   "metadata": {},
   "outputs": [],
   "source": [
    "lda_val = []\n",
    "knn_val = []\n",
    "svm_val = [] \n",
    "descriptor_list = []\n",
    "#esses arrays conterão os valores das colunas do dataframe"
   ]
  },
  {
   "cell_type": "code",
   "execution_count": 59,
   "id": "35f3e6e2",
   "metadata": {},
   "outputs": [
    {
     "name": "stdout",
     "output_type": "stream",
     "text": [
      "AdaptiveHybridPattern -> 0.8432237947810703 / 0.8480659000442282 / 0.6725745245466608\n",
      "dtcwt -> 0.7028982750995134 / 0.22495400265369306 / 0.22896019460415742\n",
      "FLBP -> 0.8282874834144183 / 0.8749986731534719 / 0.7866059265811589\n",
      "fractal -> 0.6123502874834144 / 0.49032242370632473 / 0.4637938965059708\n",
      "lbpv -> 0.6104812030075188 / 0.678877045555064 / 0.3764670499778858\n",
      "lbp -> 0.7981919504643964 / 0.8642733303847855 / 0.7744166298098187\n",
      "LCP -> 0.7257828394515702 / 0.6748642193719594 / 0.5527969924812031\n",
      "LFD -> 0.7739854046881909 / 0.8249274657231315 / 0.6637160548429898\n",
      "LOSIB -> 0.42255196815568336 / 0.4696992481203008 / 0.4368615656789032\n",
      "LPQ -> 0.8105873507297655 / 0.8634241486068112 / 0.82343653250774\n",
      "SLBP -> 0.8175519681556833 / 0.8777324192835028 / 0.7487386112339672\n"
     ]
    }
   ],
   "source": [
    "for pkl in dirs_pkl:                #irá rodar todos os arquivos do diretório\n",
    "    path = path_pkl+pkl\n",
    "    with open(path, \"rb\") as f:     #abertura de arquivos \n",
    "        data = pickle.load(f)\n",
    "    descriptor = data[\"descriptor\"]\n",
    "    if(descriptor!=\"fdsurfft\"):\n",
    "        feas_matrix = data[\"features\"]\n",
    "        feas_matrix = np.array(feas_matrix)\n",
    "        feas_matrix =feas_matrix.reshape(feas_matrix.shape[0], -1)  #reformulando a dimensão do array de informação \n",
    "        cv_lda = cross_val_score(lda, feas_matrix,classes,cv=10)    \n",
    "        lda_val.append(np.mean(cv_lda))\n",
    "        cv_knn = cross_val_score(knn, feas_matrix,classes,cv=10)\n",
    "        knn_val.append(np.mean(cv_knn))\n",
    "        cv_svm = cross_val_score(svmc,feas_matrix,classes,cv=10 )\n",
    "        svm_val.append(np.mean(cv_svm))\n",
    "        descriptor_list.append(descriptor)\n",
    "        print(descriptor,\"->\", np.mean(cv_lda),\"/\", np.mean(cv_knn),\"/\",np.mean(cv_svm))"
   ]
  },
  {
   "cell_type": "code",
   "execution_count": 60,
   "id": "e5d9a13c",
   "metadata": {},
   "outputs": [
    {
     "name": "stdout",
     "output_type": "stream",
     "text": [
      "['AdaptiveHybridPattern', 'dtcwt', 'FLBP', 'fractal', 'lbpv', 'lbp', 'LCP', 'LFD', 'LOSIB', 'LPQ', 'SLBP']\n"
     ]
    }
   ],
   "source": [
    "print(descriptor_list)"
   ]
  },
  {
   "cell_type": "code",
   "execution_count": 61,
   "id": "3518a7f9",
   "metadata": {},
   "outputs": [],
   "source": [
    "descriptor_list = np.array(descriptor_list)\n",
    "descriptor_list = descriptor_list.reshape(-1,1)\n",
    "lda_val= np.array(lda_val)\n",
    "lda_val=lda_val.reshape(-1,1)\n",
    "knn_val = np.array(knn_val)\n",
    "knn_val = knn_val.reshape(-1,1)\n",
    "svm_val = np.array(svm_val)\n",
    "svm_val = svm_val.reshape(-1,1)"
   ]
  },
  {
   "cell_type": "code",
   "execution_count": 62,
   "id": "a065cf21",
   "metadata": {},
   "outputs": [],
   "source": [
    "dataDF = [lda_val,\n",
    "         knn_val,\n",
    "         svm_val]\n",
    "dataDF=np.array(dataDF)\n",
    "dataDF= dataDF.reshape((3,11))\n",
    "df = pd.DataFrame(dataDF.T,index=descriptor_list,columns=['LDA','KNN','SVM'])"
   ]
  },
  {
   "cell_type": "code",
   "execution_count": 63,
   "id": "2192ac9e",
   "metadata": {},
   "outputs": [
    {
     "data": {
      "text/html": [
       "<div>\n",
       "<style scoped>\n",
       "    .dataframe tbody tr th:only-of-type {\n",
       "        vertical-align: middle;\n",
       "    }\n",
       "\n",
       "    .dataframe tbody tr th {\n",
       "        vertical-align: top;\n",
       "    }\n",
       "\n",
       "    .dataframe thead th {\n",
       "        text-align: right;\n",
       "    }\n",
       "</style>\n",
       "<table border=\"1\" class=\"dataframe\">\n",
       "  <thead>\n",
       "    <tr style=\"text-align: right;\">\n",
       "      <th></th>\n",
       "      <th>LDA</th>\n",
       "      <th>KNN</th>\n",
       "      <th>SVM</th>\n",
       "    </tr>\n",
       "  </thead>\n",
       "  <tbody>\n",
       "    <tr>\n",
       "      <th>(AdaptiveHybridPattern,)</th>\n",
       "      <td>0.843224</td>\n",
       "      <td>0.848066</td>\n",
       "      <td>0.672575</td>\n",
       "    </tr>\n",
       "    <tr>\n",
       "      <th>(dtcwt,)</th>\n",
       "      <td>0.702898</td>\n",
       "      <td>0.224954</td>\n",
       "      <td>0.228960</td>\n",
       "    </tr>\n",
       "    <tr>\n",
       "      <th>(FLBP,)</th>\n",
       "      <td>0.828287</td>\n",
       "      <td>0.874999</td>\n",
       "      <td>0.786606</td>\n",
       "    </tr>\n",
       "    <tr>\n",
       "      <th>(fractal,)</th>\n",
       "      <td>0.612350</td>\n",
       "      <td>0.490322</td>\n",
       "      <td>0.463794</td>\n",
       "    </tr>\n",
       "    <tr>\n",
       "      <th>(lbpv,)</th>\n",
       "      <td>0.610481</td>\n",
       "      <td>0.678877</td>\n",
       "      <td>0.376467</td>\n",
       "    </tr>\n",
       "    <tr>\n",
       "      <th>(lbp,)</th>\n",
       "      <td>0.798192</td>\n",
       "      <td>0.864273</td>\n",
       "      <td>0.774417</td>\n",
       "    </tr>\n",
       "    <tr>\n",
       "      <th>(LCP,)</th>\n",
       "      <td>0.725783</td>\n",
       "      <td>0.674864</td>\n",
       "      <td>0.552797</td>\n",
       "    </tr>\n",
       "    <tr>\n",
       "      <th>(LFD,)</th>\n",
       "      <td>0.773985</td>\n",
       "      <td>0.824927</td>\n",
       "      <td>0.663716</td>\n",
       "    </tr>\n",
       "    <tr>\n",
       "      <th>(LOSIB,)</th>\n",
       "      <td>0.422552</td>\n",
       "      <td>0.469699</td>\n",
       "      <td>0.436862</td>\n",
       "    </tr>\n",
       "    <tr>\n",
       "      <th>(LPQ,)</th>\n",
       "      <td>0.810587</td>\n",
       "      <td>0.863424</td>\n",
       "      <td>0.823437</td>\n",
       "    </tr>\n",
       "    <tr>\n",
       "      <th>(SLBP,)</th>\n",
       "      <td>0.817552</td>\n",
       "      <td>0.877732</td>\n",
       "      <td>0.748739</td>\n",
       "    </tr>\n",
       "  </tbody>\n",
       "</table>\n",
       "</div>"
      ],
      "text/plain": [
       "                               LDA       KNN       SVM\n",
       "(AdaptiveHybridPattern,)  0.843224  0.848066  0.672575\n",
       "(dtcwt,)                  0.702898  0.224954  0.228960\n",
       "(FLBP,)                   0.828287  0.874999  0.786606\n",
       "(fractal,)                0.612350  0.490322  0.463794\n",
       "(lbpv,)                   0.610481  0.678877  0.376467\n",
       "(lbp,)                    0.798192  0.864273  0.774417\n",
       "(LCP,)                    0.725783  0.674864  0.552797\n",
       "(LFD,)                    0.773985  0.824927  0.663716\n",
       "(LOSIB,)                  0.422552  0.469699  0.436862\n",
       "(LPQ,)                    0.810587  0.863424  0.823437\n",
       "(SLBP,)                   0.817552  0.877732  0.748739"
      ]
     },
     "metadata": {},
     "output_type": "display_data"
    }
   ],
   "source": [
    "display(df)\n"
   ]
  },
  {
   "cell_type": "code",
   "execution_count": 64,
   "id": "d7e76b03",
   "metadata": {},
   "outputs": [],
   "source": [
    "latex_code = df.to_latex(index=True)"
   ]
  },
  {
   "cell_type": "code",
   "execution_count": 65,
   "id": "3ac850f1",
   "metadata": {},
   "outputs": [
    {
     "name": "stdout",
     "output_type": "stream",
     "text": [
      "\\begin{tabular}{lrrr}\n",
      "\\toprule\n",
      " & LDA & KNN & SVM \\\\\n",
      "\\midrule\n",
      "('AdaptiveHybridPattern',) & 0.843224 & 0.848066 & 0.672575 \\\\\n",
      "('dtcwt',) & 0.702898 & 0.224954 & 0.228960 \\\\\n",
      "('FLBP',) & 0.828287 & 0.874999 & 0.786606 \\\\\n",
      "('fractal',) & 0.612350 & 0.490322 & 0.463794 \\\\\n",
      "('lbpv',) & 0.610481 & 0.678877 & 0.376467 \\\\\n",
      "('lbp',) & 0.798192 & 0.864273 & 0.774417 \\\\\n",
      "('LCP',) & 0.725783 & 0.674864 & 0.552797 \\\\\n",
      "('LFD',) & 0.773985 & 0.824927 & 0.663716 \\\\\n",
      "('LOSIB',) & 0.422552 & 0.469699 & 0.436862 \\\\\n",
      "('LPQ',) & 0.810587 & 0.863424 & 0.823437 \\\\\n",
      "('SLBP',) & 0.817552 & 0.877732 & 0.748739 \\\\\n",
      "\\bottomrule\n",
      "\\end{tabular}\n",
      "\n"
     ]
    }
   ],
   "source": [
    "print(latex_code)"
   ]
  },
  {
   "cell_type": "code",
   "execution_count": null,
   "id": "63c0ca99",
   "metadata": {},
   "outputs": [],
   "source": []
  },
  {
   "cell_type": "code",
   "execution_count": null,
   "id": "77ff3cea",
   "metadata": {},
   "outputs": [],
   "source": []
  }
 ],
 "metadata": {
  "kernelspec": {
   "display_name": "Python 3 (ipykernel)",
   "language": "python",
   "name": "python3"
  },
  "language_info": {
   "codemirror_mode": {
    "name": "ipython",
    "version": 3
   },
   "file_extension": ".py",
   "mimetype": "text/x-python",
   "name": "python",
   "nbconvert_exporter": "python",
   "pygments_lexer": "ipython3",
   "version": "3.11.5"
  }
 },
 "nbformat": 4,
 "nbformat_minor": 5
}
