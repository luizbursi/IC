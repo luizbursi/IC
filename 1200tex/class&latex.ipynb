{
 "cells": [
  {
   "cell_type": "code",
   "execution_count": 1,
   "id": "25679177",
   "metadata": {},
   "outputs": [],
   "source": [
    "#este código irá extrair as informações dos arquivos '.pkl', classificá-los e montar um dataframe para melhor\n",
    "#visualização da informação obtida"
   ]
  },
  {
   "cell_type": "code",
   "execution_count": 2,
   "id": "c88fa11a",
   "metadata": {},
   "outputs": [],
   "source": [
    "#bibliotecas que serão usadas\n",
    "import pickle #manipulação de arquivos\n",
    "import os, sys #criação de listas a partir de um diretório do sistema\n",
    "import numpy as np #manipulação de array\n",
    "from sklearn.discriminant_analysis import LinearDiscriminantAnalysis #classificador LDA\n",
    "from sklearn.neighbors import KNeighborsClassifier #classificador KNN\n",
    "from sklearn.model_selection import cross_val_score #método de classificação com cross validation\n",
    "from sklearn.model_selection import train_test_split\n",
    "from sklearn import svm #classificador SVM\n",
    "import pandas as pd #manipulação de tabela (dataframe)"
   ]
  },
  {
   "cell_type": "code",
   "execution_count": 3,
   "id": "38ff1ef9",
   "metadata": {},
   "outputs": [],
   "source": [
    "#path para os .pkl\n",
    "path_pkl = \"C:/Users/oluiz/OneDrive/Documentos/IC/Pickles/1200tex/\"\n",
    "dirs_pkl = [file for file in os.listdir(path_pkl) if not file.endswith('CLASS.pkl')]\n",
    "classepkl = [file for file in os.listdir(path_pkl) if file.endswith('CLASS.pkl')]\n",
    "classepkl = classepkl[0]"
   ]
  },
  {
   "cell_type": "code",
   "execution_count": 4,
   "id": "e9ff6c4d",
   "metadata": {},
   "outputs": [],
   "source": [
    "#matriz com as classes \n",
    "with open(path_pkl+classepkl, \"rb\") as fc:\n",
    "    classes = pickle.load(fc)\n",
    "classes = classes[\"class\"]\n",
    "classes = np.array(classes)"
   ]
  },
  {
   "cell_type": "code",
   "execution_count": 5,
   "id": "232b3ef9",
   "metadata": {},
   "outputs": [],
   "source": [
    "#classificadores \n",
    "knn = KNeighborsClassifier(n_neighbors=1)\n",
    "lda = LinearDiscriminantAnalysis()\n",
    "svmc = svm.SVC()"
   ]
  },
  {
   "cell_type": "code",
   "execution_count": 6,
   "id": "a1b8e9b7",
   "metadata": {},
   "outputs": [],
   "source": [
    "lda_val = []\n",
    "knn_val = []\n",
    "svm_val = [] \n",
    "descriptor_list = []\n",
    "#esses arrays conterão os valores das colunas do dataframe"
   ]
  },
  {
   "cell_type": "code",
   "execution_count": 7,
   "id": "886026d3",
   "metadata": {},
   "outputs": [
    {
     "name": "stdout",
     "output_type": "stream",
     "text": [
      "AdaptiveHybridPattern -> 0.7891666666666668 / 0.6083333333333333 / 0.5116666666666666\n",
      "dtcwt -> 0.8066666666666666 / 0.19 / 0.24500000000000002\n",
      "fdsurfft -> 0.5816666666666667 / 0.3916666666666667 / 0.48166666666666663\n",
      "FLBP -> 0.8208333333333334 / 0.6575000000000001 / 0.615\n",
      "fourier -> 0.6575 / 0.47333333333333333 / 0.35416666666666663\n",
      "fractal -> 0.7141666666666666 / 0.325 / 0.23833333333333334\n",
      "gabor -> 0.7825 / 0.3983333333333333 / 0.43499999999999994\n",
      "lbpv -> 0.4616666666666666 / 0.4583333333333333 / 0.2658333333333333\n",
      "lbp -> 0.7141666666666666 / 0.6575 / 0.6008333333333333\n",
      "LCP -> 0.7591666666666667 / 0.5475000000000001 / 0.4125\n",
      "LFD -> 0.7441666666666665 / 0.6058333333333333 / 0.4766666666666667\n",
      "LOSIB -> 0.4933333333333333 / 0.36083333333333334 / 0.35083333333333333\n",
      "LPQ -> 0.7100000000000001 / 0.6433333333333333 / 0.6541666666666667\n",
      "SLBP -> 0.8025 / 0.6316666666666666 / 0.43499999999999994\n"
     ]
    }
   ],
   "source": [
    "for pkl in dirs_pkl:                #irá rodar todos os arquivos do diretório\n",
    "    path = path_pkl+pkl\n",
    "    with open(path, \"rb\") as f:     #abertura de arquivos \n",
    "        data = pickle.load(f)\n",
    "    descriptor = data[\"descriptor\"]\n",
    "    feas_matrix = data[\"features\"]\n",
    "    feas_matrix = np.array(feas_matrix)\n",
    "    feas_matrix =feas_matrix.reshape(feas_matrix.shape[0], -1)  #reformulando a dimensão do array de informação \n",
    "    cv_lda = cross_val_score(lda, feas_matrix,classes,cv=10)    \n",
    "    lda_val.append(np.mean(cv_lda))\n",
    "    cv_knn = cross_val_score(knn, feas_matrix,classes,cv=10)\n",
    "    knn_val.append(np.mean(cv_knn))\n",
    "    cv_svm = cross_val_score(svmc,feas_matrix,classes,cv=10 )\n",
    "    svm_val.append(np.mean(cv_svm))\n",
    "    descriptor_list.append(descriptor)\n",
    "    print(descriptor,\"->\", np.mean(cv_lda),\"/\", np.mean(cv_knn),\"/\",np.mean(cv_svm))"
   ]
  },
  {
   "cell_type": "code",
   "execution_count": 8,
   "id": "3a660336",
   "metadata": {},
   "outputs": [],
   "source": [
    "descriptor_list = np.array(descriptor_list)\n",
    "descriptor_list = descriptor_list.reshape(-1,1)\n",
    "lda_val= np.array(lda_val)\n",
    "lda_val=lda_val.reshape(-1,1)\n",
    "knn_val = np.array(knn_val)\n",
    "knn_val = knn_val.reshape(-1,1)\n",
    "svm_val = np.array(svm_val)\n",
    "svm_val = svm_val.reshape(-1,1)"
   ]
  },
  {
   "cell_type": "code",
   "execution_count": 13,
   "id": "5c086805",
   "metadata": {},
   "outputs": [],
   "source": [
    "dataDF = [lda_val,\n",
    "         knn_val,\n",
    "         svm_val]\n",
    "dataDF=np.array(dataDF)\n",
    "dataDF= dataDF.reshape((3,14))\n",
    "df = pd.DataFrame(dataDF.T,index=descriptor_list[:],columns=['LDA','KNN','SVM'])"
   ]
  },
  {
   "cell_type": "code",
   "execution_count": 14,
   "id": "445c869e",
   "metadata": {},
   "outputs": [
    {
     "data": {
      "text/html": [
       "<div>\n",
       "<style scoped>\n",
       "    .dataframe tbody tr th:only-of-type {\n",
       "        vertical-align: middle;\n",
       "    }\n",
       "\n",
       "    .dataframe tbody tr th {\n",
       "        vertical-align: top;\n",
       "    }\n",
       "\n",
       "    .dataframe thead th {\n",
       "        text-align: right;\n",
       "    }\n",
       "</style>\n",
       "<table border=\"1\" class=\"dataframe\">\n",
       "  <thead>\n",
       "    <tr style=\"text-align: right;\">\n",
       "      <th></th>\n",
       "      <th>LDA</th>\n",
       "      <th>KNN</th>\n",
       "      <th>SVM</th>\n",
       "    </tr>\n",
       "  </thead>\n",
       "  <tbody>\n",
       "    <tr>\n",
       "      <th>(AdaptiveHybridPattern,)</th>\n",
       "      <td>0.789167</td>\n",
       "      <td>0.608333</td>\n",
       "      <td>0.511667</td>\n",
       "    </tr>\n",
       "    <tr>\n",
       "      <th>(dtcwt,)</th>\n",
       "      <td>0.806667</td>\n",
       "      <td>0.190000</td>\n",
       "      <td>0.245000</td>\n",
       "    </tr>\n",
       "    <tr>\n",
       "      <th>(fdsurfft,)</th>\n",
       "      <td>0.581667</td>\n",
       "      <td>0.391667</td>\n",
       "      <td>0.481667</td>\n",
       "    </tr>\n",
       "    <tr>\n",
       "      <th>(FLBP,)</th>\n",
       "      <td>0.820833</td>\n",
       "      <td>0.657500</td>\n",
       "      <td>0.615000</td>\n",
       "    </tr>\n",
       "    <tr>\n",
       "      <th>(fourier,)</th>\n",
       "      <td>0.657500</td>\n",
       "      <td>0.473333</td>\n",
       "      <td>0.354167</td>\n",
       "    </tr>\n",
       "    <tr>\n",
       "      <th>(fractal,)</th>\n",
       "      <td>0.714167</td>\n",
       "      <td>0.325000</td>\n",
       "      <td>0.238333</td>\n",
       "    </tr>\n",
       "    <tr>\n",
       "      <th>(gabor,)</th>\n",
       "      <td>0.782500</td>\n",
       "      <td>0.398333</td>\n",
       "      <td>0.435000</td>\n",
       "    </tr>\n",
       "    <tr>\n",
       "      <th>(lbpv,)</th>\n",
       "      <td>0.461667</td>\n",
       "      <td>0.458333</td>\n",
       "      <td>0.265833</td>\n",
       "    </tr>\n",
       "    <tr>\n",
       "      <th>(lbp,)</th>\n",
       "      <td>0.714167</td>\n",
       "      <td>0.657500</td>\n",
       "      <td>0.600833</td>\n",
       "    </tr>\n",
       "    <tr>\n",
       "      <th>(LCP,)</th>\n",
       "      <td>0.759167</td>\n",
       "      <td>0.547500</td>\n",
       "      <td>0.412500</td>\n",
       "    </tr>\n",
       "    <tr>\n",
       "      <th>(LFD,)</th>\n",
       "      <td>0.744167</td>\n",
       "      <td>0.605833</td>\n",
       "      <td>0.476667</td>\n",
       "    </tr>\n",
       "    <tr>\n",
       "      <th>(LOSIB,)</th>\n",
       "      <td>0.493333</td>\n",
       "      <td>0.360833</td>\n",
       "      <td>0.350833</td>\n",
       "    </tr>\n",
       "    <tr>\n",
       "      <th>(LPQ,)</th>\n",
       "      <td>0.710000</td>\n",
       "      <td>0.643333</td>\n",
       "      <td>0.654167</td>\n",
       "    </tr>\n",
       "    <tr>\n",
       "      <th>(SLBP,)</th>\n",
       "      <td>0.802500</td>\n",
       "      <td>0.631667</td>\n",
       "      <td>0.435000</td>\n",
       "    </tr>\n",
       "  </tbody>\n",
       "</table>\n",
       "</div>"
      ],
      "text/plain": [
       "                               LDA       KNN       SVM\n",
       "(AdaptiveHybridPattern,)  0.789167  0.608333  0.511667\n",
       "(dtcwt,)                  0.806667  0.190000  0.245000\n",
       "(fdsurfft,)               0.581667  0.391667  0.481667\n",
       "(FLBP,)                   0.820833  0.657500  0.615000\n",
       "(fourier,)                0.657500  0.473333  0.354167\n",
       "(fractal,)                0.714167  0.325000  0.238333\n",
       "(gabor,)                  0.782500  0.398333  0.435000\n",
       "(lbpv,)                   0.461667  0.458333  0.265833\n",
       "(lbp,)                    0.714167  0.657500  0.600833\n",
       "(LCP,)                    0.759167  0.547500  0.412500\n",
       "(LFD,)                    0.744167  0.605833  0.476667\n",
       "(LOSIB,)                  0.493333  0.360833  0.350833\n",
       "(LPQ,)                    0.710000  0.643333  0.654167\n",
       "(SLBP,)                   0.802500  0.631667  0.435000"
      ]
     },
     "metadata": {},
     "output_type": "display_data"
    }
   ],
   "source": [
    "display(df)\n"
   ]
  },
  {
   "cell_type": "code",
   "execution_count": 15,
   "id": "9ff47891",
   "metadata": {},
   "outputs": [],
   "source": [
    "latex_code = df.to_latex(index=True)"
   ]
  },
  {
   "cell_type": "code",
   "execution_count": 16,
   "id": "4cee901f",
   "metadata": {},
   "outputs": [
    {
     "name": "stdout",
     "output_type": "stream",
     "text": [
      "\\begin{tabular}{lrrr}\n",
      "\\toprule\n",
      " & LDA & KNN & SVM \\\\\n",
      "\\midrule\n",
      "('AdaptiveHybridPattern',) & 0.789167 & 0.608333 & 0.511667 \\\\\n",
      "('dtcwt',) & 0.806667 & 0.190000 & 0.245000 \\\\\n",
      "('fdsurfft',) & 0.581667 & 0.391667 & 0.481667 \\\\\n",
      "('FLBP',) & 0.820833 & 0.657500 & 0.615000 \\\\\n",
      "('fourier',) & 0.657500 & 0.473333 & 0.354167 \\\\\n",
      "('fractal',) & 0.714167 & 0.325000 & 0.238333 \\\\\n",
      "('gabor',) & 0.782500 & 0.398333 & 0.435000 \\\\\n",
      "('lbpv',) & 0.461667 & 0.458333 & 0.265833 \\\\\n",
      "('lbp',) & 0.714167 & 0.657500 & 0.600833 \\\\\n",
      "('LCP',) & 0.759167 & 0.547500 & 0.412500 \\\\\n",
      "('LFD',) & 0.744167 & 0.605833 & 0.476667 \\\\\n",
      "('LOSIB',) & 0.493333 & 0.360833 & 0.350833 \\\\\n",
      "('LPQ',) & 0.710000 & 0.643333 & 0.654167 \\\\\n",
      "('SLBP',) & 0.802500 & 0.631667 & 0.435000 \\\\\n",
      "\\bottomrule\n",
      "\\end{tabular}\n",
      "\n"
     ]
    }
   ],
   "source": [
    "print(latex_code)"
   ]
  },
  {
   "cell_type": "code",
   "execution_count": null,
   "id": "8b3f02ae",
   "metadata": {},
   "outputs": [],
   "source": []
  }
 ],
 "metadata": {
  "kernelspec": {
   "display_name": "Python 3 (ipykernel)",
   "language": "python",
   "name": "python3"
  },
  "language_info": {
   "codemirror_mode": {
    "name": "ipython",
    "version": 3
   },
   "file_extension": ".py",
   "mimetype": "text/x-python",
   "name": "python",
   "nbconvert_exporter": "python",
   "pygments_lexer": "ipython3",
   "version": "3.11.5"
  }
 },
 "nbformat": 4,
 "nbformat_minor": 5
}
