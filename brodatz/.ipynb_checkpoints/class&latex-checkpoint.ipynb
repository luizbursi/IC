{
 "cells": [
  {
   "cell_type": "code",
   "execution_count": 55,
   "id": "819dd4c0",
   "metadata": {},
   "outputs": [],
   "source": [
    "#este código irá extrair as informações dos arquivos '.pkl', classificá-los e montar um dataframe para melhor\n",
    "#visualização da informação obtida"
   ]
  },
  {
   "cell_type": "code",
   "execution_count": 56,
   "id": "e15b7e31",
   "metadata": {},
   "outputs": [],
   "source": [
    "#bibliotecas que serão usadas\n",
    "import pickle #manipulação de arquivos\n",
    "import os, sys #criação de listas a partir de um diretório do sistema\n",
    "import numpy as np #manipulação de array\n",
    "from sklearn.discriminant_analysis import LinearDiscriminantAnalysis #classificador LDA\n",
    "from sklearn.neighbors import KNeighborsClassifier #classificador KNN\n",
    "from sklearn.model_selection import cross_val_score #método de classificação com cross validation\n",
    "from sklearn.model_selection import train_test_split\n",
    "from sklearn import svm #classificador SVM\n",
    "import pandas as pd #manipulação de tabela (dataframe)"
   ]
  },
  {
   "cell_type": "code",
   "execution_count": 57,
   "id": "feee54fa",
   "metadata": {},
   "outputs": [],
   "source": [
    "#path para os .pkl\n",
    "path_pkl = \"C:/Users/oluiz/OneDrive/Documentos/IC/Pickles/brodatz/\"\n",
    "dirs_pkl = [file for file in os.listdir(path_pkl) if not file.endswith('CLASS.pkl')]\n",
    "classepkl = [file for file in os.listdir(path_pkl) if file.endswith('CLASS.pkl')]\n",
    "classepkl = classepkl[0]"
   ]
  },
  {
   "cell_type": "code",
   "execution_count": 58,
   "id": "cb4f35f7",
   "metadata": {},
   "outputs": [],
   "source": [
    "#matriz com as classes \n",
    "with open(path_pkl+classepkl, \"rb\") as fc:\n",
    "    classes = pickle.load(fc)\n",
    "classes = classes[\"class\"]\n",
    "classes = np.array(classes)"
   ]
  },
  {
   "cell_type": "code",
   "execution_count": 59,
   "id": "891ee96e",
   "metadata": {},
   "outputs": [],
   "source": [
    "#classificadores \n",
    "knn = KNeighborsClassifier(n_neighbors=1)\n",
    "lda = LinearDiscriminantAnalysis()\n",
    "svmc = svm.SVC()"
   ]
  },
  {
   "cell_type": "code",
   "execution_count": 60,
   "id": "14c086db",
   "metadata": {},
   "outputs": [],
   "source": [
    "lda_val = []\n",
    "knn_val = []\n",
    "svm_val = [] \n",
    "descriptor_list = []\n",
    "#esses arrays conterão os valores das colunas do dataframe"
   ]
  },
  {
   "cell_type": "code",
   "execution_count": 61,
   "id": "ff61ae3f",
   "metadata": {},
   "outputs": [
    {
     "name": "stdout",
     "output_type": "stream",
     "text": [
      "AdaptiveHybridPattern -> 0.9447724243001334 / 0.918355233923697 / 0.326083920523075\n",
      "dtcwt -> 0.9205675109502952 / 0.08840855710023487 / 0.051247381451152166\n",
      "fdsurfft -> 0.7060686853297785 / 0.6165079667364946 / 0.490405002221799\n",
      "FLBP -> 0.9599853996064243 / 0.9290420872214817 / 0.7392814067161811\n",
      "fourier -> 0.8164063987811845 / 0.646311813622802 / 0.16099155716371485\n",
      "fractal -> 0.8760934425188853 / 0.4943153685012379 / 0.12667745826191837\n",
      "gabor -> 0.8935440868406019 / 0.7505427537611884 / 0.6920015235193298\n",
      "lbpv -> 0.8068177490001904 / 0.7246556211515266 / 0.1717323684377579\n",
      "lbp -> 0.9284707674728623 / 0.9110296451469562 / 0.7032755665587507\n",
      "LCP -> 0.9307274804799087 / 0.8344601028375547 / 0.3310766203262871\n",
      "LFD -> 0.9081952643940836 / 0.8715958864978098 / 0.3457309718783724\n",
      "LOSIB -> 0.6283660255189487 / 0.6187773757379545 / 0.3349774646099156\n",
      "LPQ -> 0.9188979876848855 / 0.9256649527074208 / 0.8000920459594998\n",
      "SLBP -> 0.953227956579699 / 0.9121468926553673 / 0.6548403478702469\n"
     ]
    }
   ],
   "source": [
    "for pkl in dirs_pkl:                #irá rodar todos os arquivos do diretório\n",
    "    path = path_pkl+pkl\n",
    "    with open(path, \"rb\") as f:     #abertura de arquivos \n",
    "        data = pickle.load(f)\n",
    "    descriptor = data[\"descriptor\"]\n",
    "    feas_matrix = data[\"features\"]\n",
    "    feas_matrix = np.array(feas_matrix)\n",
    "    feas_matrix =feas_matrix.reshape(feas_matrix.shape[0], -1)  #reformulando a dimensão do array de informação \n",
    "    cv_lda = cross_val_score(lda, feas_matrix,classes,cv=10)    \n",
    "    lda_val.append(np.mean(cv_lda))\n",
    "    cv_knn = cross_val_score(knn, feas_matrix,classes,cv=10)\n",
    "    knn_val.append(np.mean(cv_knn))\n",
    "    cv_svm = cross_val_score(svmc,feas_matrix,classes,cv=10 )\n",
    "    svm_val.append(np.mean(cv_svm))\n",
    "    descriptor_list.append(descriptor)\n",
    "    print(descriptor,\"->\", np.mean(cv_lda),\"/\", np.mean(cv_knn),\"/\",np.mean(cv_svm))"
   ]
  },
  {
   "cell_type": "code",
   "execution_count": 62,
   "id": "9cf58d89",
   "metadata": {},
   "outputs": [],
   "source": [
    "descriptor_list = np.array(descriptor_list)\n",
    "descriptor_list = descriptor_list.reshape(-1,1)\n",
    "lda_val= np.array(lda_val)\n",
    "lda_val=lda_val.reshape(-1,1)\n",
    "knn_val = np.array(knn_val)\n",
    "knn_val = knn_val.reshape(-1,1)\n",
    "svm_val = np.array(svm_val)\n",
    "svm_val = svm_val.reshape(-1,1)"
   ]
  },
  {
   "cell_type": "code",
   "execution_count": 68,
   "id": "4bf340d8",
   "metadata": {},
   "outputs": [],
   "source": [
    "dataDF = [lda_val,\n",
    "         knn_val,\n",
    "         svm_val]\n",
    "dataDF=np.array(dataDF)\n",
    "dataDF= dataDF.reshape((3,14))\n",
    "df = pd.DataFrame(dataDF.T,index=descriptor_list,columns=['LDA','KNN','SVM'])"
   ]
  },
  {
   "cell_type": "code",
   "execution_count": 70,
   "id": "a484c790",
   "metadata": {},
   "outputs": [
    {
     "data": {
      "text/html": [
       "<div>\n",
       "<style scoped>\n",
       "    .dataframe tbody tr th:only-of-type {\n",
       "        vertical-align: middle;\n",
       "    }\n",
       "\n",
       "    .dataframe tbody tr th {\n",
       "        vertical-align: top;\n",
       "    }\n",
       "\n",
       "    .dataframe thead th {\n",
       "        text-align: right;\n",
       "    }\n",
       "</style>\n",
       "<table border=\"1\" class=\"dataframe\">\n",
       "  <thead>\n",
       "    <tr style=\"text-align: right;\">\n",
       "      <th></th>\n",
       "      <th>LDA</th>\n",
       "      <th>KNN</th>\n",
       "      <th>SVM</th>\n",
       "    </tr>\n",
       "  </thead>\n",
       "  <tbody>\n",
       "    <tr>\n",
       "      <th>(AdaptiveHybridPattern,)</th>\n",
       "      <td>0.944772</td>\n",
       "      <td>0.918355</td>\n",
       "      <td>0.326084</td>\n",
       "    </tr>\n",
       "    <tr>\n",
       "      <th>(dtcwt,)</th>\n",
       "      <td>0.920568</td>\n",
       "      <td>0.088409</td>\n",
       "      <td>0.051247</td>\n",
       "    </tr>\n",
       "    <tr>\n",
       "      <th>(fdsurfft,)</th>\n",
       "      <td>0.706069</td>\n",
       "      <td>0.616508</td>\n",
       "      <td>0.490405</td>\n",
       "    </tr>\n",
       "    <tr>\n",
       "      <th>(FLBP,)</th>\n",
       "      <td>0.959985</td>\n",
       "      <td>0.929042</td>\n",
       "      <td>0.739281</td>\n",
       "    </tr>\n",
       "    <tr>\n",
       "      <th>(fourier,)</th>\n",
       "      <td>0.816406</td>\n",
       "      <td>0.646312</td>\n",
       "      <td>0.160992</td>\n",
       "    </tr>\n",
       "    <tr>\n",
       "      <th>(fractal,)</th>\n",
       "      <td>0.876093</td>\n",
       "      <td>0.494315</td>\n",
       "      <td>0.126677</td>\n",
       "    </tr>\n",
       "    <tr>\n",
       "      <th>(gabor,)</th>\n",
       "      <td>0.893544</td>\n",
       "      <td>0.750543</td>\n",
       "      <td>0.692002</td>\n",
       "    </tr>\n",
       "    <tr>\n",
       "      <th>(lbpv,)</th>\n",
       "      <td>0.806818</td>\n",
       "      <td>0.724656</td>\n",
       "      <td>0.171732</td>\n",
       "    </tr>\n",
       "    <tr>\n",
       "      <th>(lbp,)</th>\n",
       "      <td>0.928471</td>\n",
       "      <td>0.911030</td>\n",
       "      <td>0.703276</td>\n",
       "    </tr>\n",
       "    <tr>\n",
       "      <th>(LCP,)</th>\n",
       "      <td>0.930727</td>\n",
       "      <td>0.834460</td>\n",
       "      <td>0.331077</td>\n",
       "    </tr>\n",
       "    <tr>\n",
       "      <th>(LFD,)</th>\n",
       "      <td>0.908195</td>\n",
       "      <td>0.871596</td>\n",
       "      <td>0.345731</td>\n",
       "    </tr>\n",
       "    <tr>\n",
       "      <th>(LOSIB,)</th>\n",
       "      <td>0.628366</td>\n",
       "      <td>0.618777</td>\n",
       "      <td>0.334977</td>\n",
       "    </tr>\n",
       "    <tr>\n",
       "      <th>(LPQ,)</th>\n",
       "      <td>0.918898</td>\n",
       "      <td>0.925665</td>\n",
       "      <td>0.800092</td>\n",
       "    </tr>\n",
       "    <tr>\n",
       "      <th>(SLBP,)</th>\n",
       "      <td>0.953228</td>\n",
       "      <td>0.912147</td>\n",
       "      <td>0.654840</td>\n",
       "    </tr>\n",
       "  </tbody>\n",
       "</table>\n",
       "</div>"
      ],
      "text/plain": [
       "                               LDA       KNN       SVM\n",
       "(AdaptiveHybridPattern,)  0.944772  0.918355  0.326084\n",
       "(dtcwt,)                  0.920568  0.088409  0.051247\n",
       "(fdsurfft,)               0.706069  0.616508  0.490405\n",
       "(FLBP,)                   0.959985  0.929042  0.739281\n",
       "(fourier,)                0.816406  0.646312  0.160992\n",
       "(fractal,)                0.876093  0.494315  0.126677\n",
       "(gabor,)                  0.893544  0.750543  0.692002\n",
       "(lbpv,)                   0.806818  0.724656  0.171732\n",
       "(lbp,)                    0.928471  0.911030  0.703276\n",
       "(LCP,)                    0.930727  0.834460  0.331077\n",
       "(LFD,)                    0.908195  0.871596  0.345731\n",
       "(LOSIB,)                  0.628366  0.618777  0.334977\n",
       "(LPQ,)                    0.918898  0.925665  0.800092\n",
       "(SLBP,)                   0.953228  0.912147  0.654840"
      ]
     },
     "metadata": {},
     "output_type": "display_data"
    }
   ],
   "source": [
    "display(df)\n"
   ]
  },
  {
   "cell_type": "code",
   "execution_count": 71,
   "id": "89aa838d",
   "metadata": {},
   "outputs": [],
   "source": [
    "latex_code = df.to_latex(index=True)"
   ]
  },
  {
   "cell_type": "code",
   "execution_count": 72,
   "id": "c46936a8",
   "metadata": {},
   "outputs": [
    {
     "name": "stdout",
     "output_type": "stream",
     "text": [
      "\\begin{tabular}{lrrr}\n",
      "\\toprule\n",
      " & LDA & KNN & SVM \\\\\n",
      "\\midrule\n",
      "('AdaptiveHybridPattern',) & 0.944772 & 0.918355 & 0.326084 \\\\\n",
      "('dtcwt',) & 0.920568 & 0.088409 & 0.051247 \\\\\n",
      "('fdsurfft',) & 0.706069 & 0.616508 & 0.490405 \\\\\n",
      "('FLBP',) & 0.959985 & 0.929042 & 0.739281 \\\\\n",
      "('fourier',) & 0.816406 & 0.646312 & 0.160992 \\\\\n",
      "('fractal',) & 0.876093 & 0.494315 & 0.126677 \\\\\n",
      "('gabor',) & 0.893544 & 0.750543 & 0.692002 \\\\\n",
      "('lbpv',) & 0.806818 & 0.724656 & 0.171732 \\\\\n",
      "('lbp',) & 0.928471 & 0.911030 & 0.703276 \\\\\n",
      "('LCP',) & 0.930727 & 0.834460 & 0.331077 \\\\\n",
      "('LFD',) & 0.908195 & 0.871596 & 0.345731 \\\\\n",
      "('LOSIB',) & 0.628366 & 0.618777 & 0.334977 \\\\\n",
      "('LPQ',) & 0.918898 & 0.925665 & 0.800092 \\\\\n",
      "('SLBP',) & 0.953228 & 0.912147 & 0.654840 \\\\\n",
      "\\bottomrule\n",
      "\\end{tabular}\n",
      "\n"
     ]
    }
   ],
   "source": [
    "print(latex_code)"
   ]
  },
  {
   "cell_type": "code",
   "execution_count": null,
   "id": "cd2a03bf",
   "metadata": {},
   "outputs": [],
   "source": []
  }
 ],
 "metadata": {
  "kernelspec": {
   "display_name": "Python 3 (ipykernel)",
   "language": "python",
   "name": "python3"
  },
  "language_info": {
   "codemirror_mode": {
    "name": "ipython",
    "version": 3
   },
   "file_extension": ".py",
   "mimetype": "text/x-python",
   "name": "python",
   "nbconvert_exporter": "python",
   "pygments_lexer": "ipython3",
   "version": "3.11.5"
  }
 },
 "nbformat": 4,
 "nbformat_minor": 5
}
