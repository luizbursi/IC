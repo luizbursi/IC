{
 "cells": [
  {
   "cell_type": "code",
   "execution_count": 13,
   "id": "3d5488d9",
   "metadata": {},
   "outputs": [],
   "source": [
    "#este código irá extrair as informações dos arquivos '.pkl', classificá-los e montar um dataframe para melhor\n",
    "#visualização da informação obtida"
   ]
  },
  {
   "cell_type": "code",
   "execution_count": 14,
   "id": "8bfbd31f",
   "metadata": {},
   "outputs": [],
   "source": [
    "#bibliotecas que serão usadas\n",
    "import pickle #manipulação de arquivos\n",
    "import os, sys #criação de listas a partir de um diretório do sistema\n",
    "import numpy as np #manipulação de array\n",
    "from sklearn.discriminant_analysis import LinearDiscriminantAnalysis #classificador LDA\n",
    "from sklearn.neighbors import KNeighborsClassifier #classificador KNN\n",
    "from sklearn.model_selection import cross_val_score #método de classificação com cross validation\n",
    "from sklearn.model_selection import train_test_split\n",
    "from sklearn import svm #classificador SVM\n",
    "import pandas as pd #manipulação de tabela (dataframe)"
   ]
  },
  {
   "cell_type": "code",
   "execution_count": 15,
   "id": "83ebd2cc",
   "metadata": {},
   "outputs": [],
   "source": [
    "#path para os .pkl\n",
    "path_pkl = \"C:/Users/oluiz/OneDrive/Documentos/IC/Pickles/outex/\"\n",
    "dirs_pkl = [file for file in os.listdir(path_pkl) if not file.endswith('CLASS.pkl')]\n",
    "classepkl = [file for file in os.listdir(path_pkl) if file.endswith('CLASS.pkl')]\n",
    "classepkl = classepkl[0]"
   ]
  },
  {
   "cell_type": "code",
   "execution_count": 16,
   "id": "8638f150",
   "metadata": {},
   "outputs": [],
   "source": [
    "#matriz com as classes \n",
    "with open(path_pkl+classepkl, \"rb\") as fc:\n",
    "    classes = pickle.load(fc)\n",
    "classes = classes[\"class\"]\n",
    "classes = np.array(classes)\n"
   ]
  },
  {
   "cell_type": "code",
   "execution_count": 17,
   "id": "52215b12",
   "metadata": {},
   "outputs": [],
   "source": [
    "#classificadores \n",
    "knn = KNeighborsClassifier(n_neighbors=1)\n",
    "lda = LinearDiscriminantAnalysis()\n",
    "svmc = svm.SVC()"
   ]
  },
  {
   "cell_type": "code",
   "execution_count": 18,
   "id": "72dc620e",
   "metadata": {},
   "outputs": [],
   "source": [
    "lda_val = []\n",
    "knn_val = []\n",
    "svm_val = [] \n",
    "descriptor_list = []\n",
    "#esses arrays conterão os valores das colunas do dataframe"
   ]
  },
  {
   "cell_type": "code",
   "execution_count": 19,
   "id": "3ea06046",
   "metadata": {},
   "outputs": [
    {
     "name": "stdout",
     "output_type": "stream",
     "text": [
      "AdaptiveHybridPattern -> 0.8720588235294118 / 0.7911764705882354 / 0.6654411764705881\n",
      "dtcwt -> 0.8463235294117647 / 0.16397058823529412 / 0.17205882352941176\n",
      "fdsurfft -> 0.6823529411764706 / 0.5889705882352941 / 0.5713235294117647\n",
      "FLBP -> 0.8875 / 0.8080882352941178 / 0.7014705882352941\n",
      "fourier -> 0.7992647058823529 / 0.6095588235294118 / 0.2735294117647059\n",
      "fractal -> 0.7970588235294118 / 0.44338235294117645 / 0.20588235294117646\n",
      "gabor -> 0.8169117647058822 / 0.6801470588235293 / 0.5948529411764707\n",
      "lbpv -> 0.6117647058823529 / 0.5904411764705882 / 0.22941176470588234\n",
      "lbp -> 0.8051470588235293 / 0.8 / 0.7602941176470589\n",
      "LCP -> 0.8632352941176471 / 0.7095588235294117 / 0.6463235294117647\n",
      "LFD -> 0.8242647058823529 / 0.761764705882353 / 0.7294117647058823\n",
      "LOSIB -> 0.5544117647058823 / 0.4617647058823529 / 0.3227941176470589\n",
      "LPQ -> 0.7941176470588236 / 0.8110294117647058 / 0.8154411764705882\n",
      "SLBP -> 0.8455882352941178 / 0.7933823529411765 / 0.6308823529411764\n"
     ]
    }
   ],
   "source": [
    "for pkl in dirs_pkl:                #irá rodar todos os arquivos do diretório\n",
    "    path = path_pkl+pkl\n",
    "    with open(path, \"rb\") as f:     #abertura de arquivos \n",
    "        data = pickle.load(f)\n",
    "    descriptor = data[\"descriptor\"]\n",
    "    feas_matrix = data[\"features\"]\n",
    "    feas_matrix = np.array(feas_matrix)\n",
    "    feas_matrix =feas_matrix.reshape(feas_matrix.shape[0], -1)  #reformulando a dimensão do array de informação \n",
    "    cv_lda = cross_val_score(lda, feas_matrix,classes,cv=10)    \n",
    "    lda_val.append(np.mean(cv_lda))\n",
    "    cv_knn = cross_val_score(knn, feas_matrix,classes,cv=10)\n",
    "    knn_val.append(np.mean(cv_knn))\n",
    "    cv_svm = cross_val_score(svmc,feas_matrix,classes,cv=10 )\n",
    "    svm_val.append(np.mean(cv_svm))\n",
    "    descriptor_list.append(descriptor)\n",
    "    print(descriptor,\"->\", np.mean(cv_lda),\"/\", np.mean(cv_knn),\"/\",np.mean(cv_svm))\n",
    "    "
   ]
  },
  {
   "cell_type": "code",
   "execution_count": 20,
   "id": "5d54d60e",
   "metadata": {},
   "outputs": [],
   "source": [
    "descriptor_list = np.array(descriptor_list)\n",
    "descriptor_list = descriptor_list.reshape(-1,1)\n",
    "lda_val= np.array(lda_val)\n",
    "lda_val=lda_val.reshape(-1,1)\n",
    "knn_val = np.array(knn_val)\n",
    "knn_val = knn_val.reshape(-1,1)\n",
    "svm_val = np.array(svm_val)\n",
    "svm_val = svm_val.reshape(-1,1)"
   ]
  },
  {
   "cell_type": "code",
   "execution_count": 21,
   "id": "0c526a9b",
   "metadata": {},
   "outputs": [],
   "source": [
    "dataDF = [lda_val,\n",
    "         knn_val,\n",
    "         svm_val]\n",
    "dataDF=np.array(dataDF)\n",
    "dataDF= dataDF.reshape((3,14))\n",
    "df = pd.DataFrame(dataDF.T,index=descriptor_list,columns=['LDA','KNN','SVM'])"
   ]
  },
  {
   "cell_type": "code",
   "execution_count": 22,
   "id": "bbc4f78a",
   "metadata": {},
   "outputs": [
    {
     "data": {
      "text/html": [
       "<div>\n",
       "<style scoped>\n",
       "    .dataframe tbody tr th:only-of-type {\n",
       "        vertical-align: middle;\n",
       "    }\n",
       "\n",
       "    .dataframe tbody tr th {\n",
       "        vertical-align: top;\n",
       "    }\n",
       "\n",
       "    .dataframe thead th {\n",
       "        text-align: right;\n",
       "    }\n",
       "</style>\n",
       "<table border=\"1\" class=\"dataframe\">\n",
       "  <thead>\n",
       "    <tr style=\"text-align: right;\">\n",
       "      <th></th>\n",
       "      <th>LDA</th>\n",
       "      <th>KNN</th>\n",
       "      <th>SVM</th>\n",
       "    </tr>\n",
       "  </thead>\n",
       "  <tbody>\n",
       "    <tr>\n",
       "      <th>(AdaptiveHybridPattern,)</th>\n",
       "      <td>0.872059</td>\n",
       "      <td>0.791176</td>\n",
       "      <td>0.665441</td>\n",
       "    </tr>\n",
       "    <tr>\n",
       "      <th>(dtcwt,)</th>\n",
       "      <td>0.846324</td>\n",
       "      <td>0.163971</td>\n",
       "      <td>0.172059</td>\n",
       "    </tr>\n",
       "    <tr>\n",
       "      <th>(fdsurfft,)</th>\n",
       "      <td>0.682353</td>\n",
       "      <td>0.588971</td>\n",
       "      <td>0.571324</td>\n",
       "    </tr>\n",
       "    <tr>\n",
       "      <th>(FLBP,)</th>\n",
       "      <td>0.887500</td>\n",
       "      <td>0.808088</td>\n",
       "      <td>0.701471</td>\n",
       "    </tr>\n",
       "    <tr>\n",
       "      <th>(fourier,)</th>\n",
       "      <td>0.799265</td>\n",
       "      <td>0.609559</td>\n",
       "      <td>0.273529</td>\n",
       "    </tr>\n",
       "    <tr>\n",
       "      <th>(fractal,)</th>\n",
       "      <td>0.797059</td>\n",
       "      <td>0.443382</td>\n",
       "      <td>0.205882</td>\n",
       "    </tr>\n",
       "    <tr>\n",
       "      <th>(gabor,)</th>\n",
       "      <td>0.816912</td>\n",
       "      <td>0.680147</td>\n",
       "      <td>0.594853</td>\n",
       "    </tr>\n",
       "    <tr>\n",
       "      <th>(lbpv,)</th>\n",
       "      <td>0.611765</td>\n",
       "      <td>0.590441</td>\n",
       "      <td>0.229412</td>\n",
       "    </tr>\n",
       "    <tr>\n",
       "      <th>(lbp,)</th>\n",
       "      <td>0.805147</td>\n",
       "      <td>0.800000</td>\n",
       "      <td>0.760294</td>\n",
       "    </tr>\n",
       "    <tr>\n",
       "      <th>(LCP,)</th>\n",
       "      <td>0.863235</td>\n",
       "      <td>0.709559</td>\n",
       "      <td>0.646324</td>\n",
       "    </tr>\n",
       "    <tr>\n",
       "      <th>(LFD,)</th>\n",
       "      <td>0.824265</td>\n",
       "      <td>0.761765</td>\n",
       "      <td>0.729412</td>\n",
       "    </tr>\n",
       "    <tr>\n",
       "      <th>(LOSIB,)</th>\n",
       "      <td>0.554412</td>\n",
       "      <td>0.461765</td>\n",
       "      <td>0.322794</td>\n",
       "    </tr>\n",
       "    <tr>\n",
       "      <th>(LPQ,)</th>\n",
       "      <td>0.794118</td>\n",
       "      <td>0.811029</td>\n",
       "      <td>0.815441</td>\n",
       "    </tr>\n",
       "    <tr>\n",
       "      <th>(SLBP,)</th>\n",
       "      <td>0.845588</td>\n",
       "      <td>0.793382</td>\n",
       "      <td>0.630882</td>\n",
       "    </tr>\n",
       "  </tbody>\n",
       "</table>\n",
       "</div>"
      ],
      "text/plain": [
       "                               LDA       KNN       SVM\n",
       "(AdaptiveHybridPattern,)  0.872059  0.791176  0.665441\n",
       "(dtcwt,)                  0.846324  0.163971  0.172059\n",
       "(fdsurfft,)               0.682353  0.588971  0.571324\n",
       "(FLBP,)                   0.887500  0.808088  0.701471\n",
       "(fourier,)                0.799265  0.609559  0.273529\n",
       "(fractal,)                0.797059  0.443382  0.205882\n",
       "(gabor,)                  0.816912  0.680147  0.594853\n",
       "(lbpv,)                   0.611765  0.590441  0.229412\n",
       "(lbp,)                    0.805147  0.800000  0.760294\n",
       "(LCP,)                    0.863235  0.709559  0.646324\n",
       "(LFD,)                    0.824265  0.761765  0.729412\n",
       "(LOSIB,)                  0.554412  0.461765  0.322794\n",
       "(LPQ,)                    0.794118  0.811029  0.815441\n",
       "(SLBP,)                   0.845588  0.793382  0.630882"
      ]
     },
     "metadata": {},
     "output_type": "display_data"
    }
   ],
   "source": [
    "display(df)\n"
   ]
  },
  {
   "cell_type": "code",
   "execution_count": 23,
   "id": "71ee1af2",
   "metadata": {},
   "outputs": [],
   "source": [
    "latex_code = df.to_latex(index=True)"
   ]
  },
  {
   "cell_type": "code",
   "execution_count": 24,
   "id": "c5719af9",
   "metadata": {},
   "outputs": [
    {
     "name": "stdout",
     "output_type": "stream",
     "text": [
      "\\begin{tabular}{lrrr}\n",
      "\\toprule\n",
      " & LDA & KNN & SVM \\\\\n",
      "\\midrule\n",
      "('AdaptiveHybridPattern',) & 0.872059 & 0.791176 & 0.665441 \\\\\n",
      "('dtcwt',) & 0.846324 & 0.163971 & 0.172059 \\\\\n",
      "('fdsurfft',) & 0.682353 & 0.588971 & 0.571324 \\\\\n",
      "('FLBP',) & 0.887500 & 0.808088 & 0.701471 \\\\\n",
      "('fourier',) & 0.799265 & 0.609559 & 0.273529 \\\\\n",
      "('fractal',) & 0.797059 & 0.443382 & 0.205882 \\\\\n",
      "('gabor',) & 0.816912 & 0.680147 & 0.594853 \\\\\n",
      "('lbpv',) & 0.611765 & 0.590441 & 0.229412 \\\\\n",
      "('lbp',) & 0.805147 & 0.800000 & 0.760294 \\\\\n",
      "('LCP',) & 0.863235 & 0.709559 & 0.646324 \\\\\n",
      "('LFD',) & 0.824265 & 0.761765 & 0.729412 \\\\\n",
      "('LOSIB',) & 0.554412 & 0.461765 & 0.322794 \\\\\n",
      "('LPQ',) & 0.794118 & 0.811029 & 0.815441 \\\\\n",
      "('SLBP',) & 0.845588 & 0.793382 & 0.630882 \\\\\n",
      "\\bottomrule\n",
      "\\end{tabular}\n",
      "\n"
     ]
    }
   ],
   "source": [
    "print(latex_code)"
   ]
  },
  {
   "cell_type": "code",
   "execution_count": null,
   "id": "63403735",
   "metadata": {},
   "outputs": [],
   "source": []
  }
 ],
 "metadata": {
  "kernelspec": {
   "display_name": "Python 3 (ipykernel)",
   "language": "python",
   "name": "python3"
  },
  "language_info": {
   "codemirror_mode": {
    "name": "ipython",
    "version": 3
   },
   "file_extension": ".py",
   "mimetype": "text/x-python",
   "name": "python",
   "nbconvert_exporter": "python",
   "pygments_lexer": "ipython3",
   "version": "3.11.5"
  }
 },
 "nbformat": 4,
 "nbformat_minor": 5
}
