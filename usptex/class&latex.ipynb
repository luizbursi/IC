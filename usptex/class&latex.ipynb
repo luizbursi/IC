{
 "cells": [
  {
   "cell_type": "code",
   "execution_count": 1,
   "id": "7666ad02",
   "metadata": {},
   "outputs": [],
   "source": [
    "#este código irá extrair as informações dos arquivos '.pkl', classificá-los e montar um dataframe para melhor\n",
    "#visualização da informação obtida"
   ]
  },
  {
   "cell_type": "code",
   "execution_count": 2,
   "id": "71afd244",
   "metadata": {},
   "outputs": [],
   "source": [
    "#bibliotecas que serão usadas\n",
    "import pickle #manipulação de arquivos\n",
    "import os, sys #criação de listas a partir de um diretório do sistema\n",
    "import numpy as np #manipulação de array\n",
    "from sklearn.discriminant_analysis import LinearDiscriminantAnalysis #classificador LDA\n",
    "from sklearn.neighbors import KNeighborsClassifier #classificador KNN\n",
    "from sklearn.model_selection import cross_val_score #método de classificação com cross validation\n",
    "from sklearn.model_selection import train_test_split\n",
    "from sklearn import svm #classificador SVM\n",
    "import pandas as pd #manipulação de tabela (dataframe)\n"
   ]
  },
  {
   "cell_type": "code",
   "execution_count": 7,
   "id": "29afe3e1",
   "metadata": {},
   "outputs": [],
   "source": [
    "#path para os .pkl\n",
    "path_pkl = \"C:/Users/oluiz/OneDrive/Documentos/IC/Pickles/usptex/\"\n",
    "dirs_pkl = [file for file in os.listdir(path_pkl) if not file.endswith('CLASS.pkl')]\n",
    "classepkl = [file for file in os.listdir(path_pkl) if file.endswith('CLASS.pkl')]\n",
    "classepkl = classepkl[0]"
   ]
  },
  {
   "cell_type": "code",
   "execution_count": 8,
   "id": "c04589ab",
   "metadata": {},
   "outputs": [],
   "source": [
    "#matriz com as classes \n",
    "with open(path_pkl+classepkl, \"rb\") as fc:\n",
    "    classes = pickle.load(fc)\n",
    "classes = classes[\"class\"]\n",
    "classes = np.array(classes)\n"
   ]
  },
  {
   "cell_type": "code",
   "execution_count": 9,
   "id": "21ecb680",
   "metadata": {},
   "outputs": [],
   "source": [
    "#classificadores \n",
    "knn = KNeighborsClassifier(n_neighbors=1)\n",
    "lda = LinearDiscriminantAnalysis()\n",
    "svmc = svm.SVC()"
   ]
  },
  {
   "cell_type": "code",
   "execution_count": 10,
   "id": "18adec71",
   "metadata": {},
   "outputs": [],
   "source": [
    "lda_val = []\n",
    "knn_val = []\n",
    "svm_val = [] \n",
    "descriptor_list = []\n",
    "#esses arrays conterão os valores das colunas do dataframe"
   ]
  },
  {
   "cell_type": "code",
   "execution_count": 11,
   "id": "a3349210",
   "metadata": {},
   "outputs": [
    {
     "name": "stdout",
     "output_type": "stream",
     "text": [
      "AdaptiveHybridPattern -> 0.9441693563698499 / 0.8451357509018417 / 0.476436301499905\n",
      "dtcwt -> 0.9127415986329979 / 0.043195367381811275 / 0.04275868615910385\n",
      "fdsurfft -> 0.595099677235618 / 0.537957091323334 / 0.4109739889880387\n",
      "FLBP -> 0.902724511106892 / 0.8564666793240935 / 0.60951775204101\n",
      "fourier -> 0.67099677235618 / 0.44372887791911914 / 0.18323144104803496\n",
      "fractal -> 0.7814201632808051 / 0.3520903740269603 / 0.15269982912473895\n",
      "gabor -> 0.8865767989367763 / 0.6418207708372888 / 0.4686083159293716\n",
      "lbpv -> 0.5301063223846592 / 0.49955762293525724 / 0.13480918929181698\n",
      "lbp -> 0.8542927662806152 / 0.8416404025061703 / 0.5820106322384659\n",
      "LCP -> 0.9101310043668123 / 0.5850920827795709 / 0.343371938484906\n",
      "LFD -> 0.8307271691665085 / 0.7945092082779571 / 0.4825175621796089\n",
      "LOSIB -> 0.5423239035504082 / 0.41841655591418264 / 0.21772166318587433\n",
      "LPQ -> 0.8516517941902411 / 0.8739149420922725 / 0.6597095120561989\n",
      "SLBP -> 0.9070799316498956 / 0.8555914182646667 / 0.5427567875450922\n"
     ]
    }
   ],
   "source": [
    "for pkl in dirs_pkl:                #irá rodar todos os arquivos do diretório\n",
    "    path = path_pkl+pkl\n",
    "    with open(path, \"rb\") as f:     #abertura de arquivos \n",
    "        data = pickle.load(f)\n",
    "    descriptor = data[\"descriptor\"]\n",
    "    feas_matrix = data[\"features\"]\n",
    "    feas_matrix = np.array(feas_matrix)\n",
    "    feas_matrix =feas_matrix.reshape(feas_matrix.shape[0], -1)  #reformulando a dimensão do array de informação \n",
    "    cv_lda = cross_val_score(lda, feas_matrix,classes,cv=10)    \n",
    "    lda_val.append(np.mean(cv_lda))\n",
    "    cv_knn = cross_val_score(knn, feas_matrix,classes,cv=10)\n",
    "    knn_val.append(np.mean(cv_knn))\n",
    "    cv_svm = cross_val_score(svmc,feas_matrix,classes,cv=10 )\n",
    "    svm_val.append(np.mean(cv_svm))\n",
    "    descriptor_list.append(descriptor)\n",
    "    print(descriptor,\"->\", np.mean(cv_lda),\"/\", np.mean(cv_knn),\"/\",np.mean(cv_svm))\n",
    "    "
   ]
  },
  {
   "cell_type": "code",
   "execution_count": 12,
   "id": "62176206",
   "metadata": {},
   "outputs": [],
   "source": [
    "descriptor_list = np.array(descriptor_list)\n",
    "descriptor_list = descriptor_list.reshape(-1,1)\n",
    "lda_val= np.array(lda_val)\n",
    "lda_val=lda_val.reshape(-1,1)\n",
    "knn_val = np.array(knn_val)\n",
    "knn_val = knn_val.reshape(-1,1)\n",
    "svm_val = np.array(svm_val)\n",
    "svm_val = svm_val.reshape(-1,1)"
   ]
  },
  {
   "cell_type": "code",
   "execution_count": 13,
   "id": "e218bc8c",
   "metadata": {},
   "outputs": [],
   "source": [
    "dataDF = [lda_val,\n",
    "         knn_val,\n",
    "         svm_val]\n",
    "dataDF=np.array(dataDF)\n",
    "dataDF= dataDF.reshape((3,14))\n",
    "df = pd.DataFrame(dataDF.T,index=descriptor_list,columns=['LDA','KNN','SVM'])"
   ]
  },
  {
   "cell_type": "code",
   "execution_count": 14,
   "id": "7905af4f",
   "metadata": {},
   "outputs": [
    {
     "data": {
      "text/html": [
       "<div>\n",
       "<style scoped>\n",
       "    .dataframe tbody tr th:only-of-type {\n",
       "        vertical-align: middle;\n",
       "    }\n",
       "\n",
       "    .dataframe tbody tr th {\n",
       "        vertical-align: top;\n",
       "    }\n",
       "\n",
       "    .dataframe thead th {\n",
       "        text-align: right;\n",
       "    }\n",
       "</style>\n",
       "<table border=\"1\" class=\"dataframe\">\n",
       "  <thead>\n",
       "    <tr style=\"text-align: right;\">\n",
       "      <th></th>\n",
       "      <th>LDA</th>\n",
       "      <th>KNN</th>\n",
       "      <th>SVM</th>\n",
       "    </tr>\n",
       "  </thead>\n",
       "  <tbody>\n",
       "    <tr>\n",
       "      <th>(AdaptiveHybridPattern,)</th>\n",
       "      <td>0.944169</td>\n",
       "      <td>0.845136</td>\n",
       "      <td>0.476436</td>\n",
       "    </tr>\n",
       "    <tr>\n",
       "      <th>(dtcwt,)</th>\n",
       "      <td>0.912742</td>\n",
       "      <td>0.043195</td>\n",
       "      <td>0.042759</td>\n",
       "    </tr>\n",
       "    <tr>\n",
       "      <th>(fdsurfft,)</th>\n",
       "      <td>0.595100</td>\n",
       "      <td>0.537957</td>\n",
       "      <td>0.410974</td>\n",
       "    </tr>\n",
       "    <tr>\n",
       "      <th>(FLBP,)</th>\n",
       "      <td>0.902725</td>\n",
       "      <td>0.856467</td>\n",
       "      <td>0.609518</td>\n",
       "    </tr>\n",
       "    <tr>\n",
       "      <th>(fourier,)</th>\n",
       "      <td>0.670997</td>\n",
       "      <td>0.443729</td>\n",
       "      <td>0.183231</td>\n",
       "    </tr>\n",
       "    <tr>\n",
       "      <th>(fractal,)</th>\n",
       "      <td>0.781420</td>\n",
       "      <td>0.352090</td>\n",
       "      <td>0.152700</td>\n",
       "    </tr>\n",
       "    <tr>\n",
       "      <th>(gabor,)</th>\n",
       "      <td>0.886577</td>\n",
       "      <td>0.641821</td>\n",
       "      <td>0.468608</td>\n",
       "    </tr>\n",
       "    <tr>\n",
       "      <th>(lbpv,)</th>\n",
       "      <td>0.530106</td>\n",
       "      <td>0.499558</td>\n",
       "      <td>0.134809</td>\n",
       "    </tr>\n",
       "    <tr>\n",
       "      <th>(lbp,)</th>\n",
       "      <td>0.854293</td>\n",
       "      <td>0.841640</td>\n",
       "      <td>0.582011</td>\n",
       "    </tr>\n",
       "    <tr>\n",
       "      <th>(LCP,)</th>\n",
       "      <td>0.910131</td>\n",
       "      <td>0.585092</td>\n",
       "      <td>0.343372</td>\n",
       "    </tr>\n",
       "    <tr>\n",
       "      <th>(LFD,)</th>\n",
       "      <td>0.830727</td>\n",
       "      <td>0.794509</td>\n",
       "      <td>0.482518</td>\n",
       "    </tr>\n",
       "    <tr>\n",
       "      <th>(LOSIB,)</th>\n",
       "      <td>0.542324</td>\n",
       "      <td>0.418417</td>\n",
       "      <td>0.217722</td>\n",
       "    </tr>\n",
       "    <tr>\n",
       "      <th>(LPQ,)</th>\n",
       "      <td>0.851652</td>\n",
       "      <td>0.873915</td>\n",
       "      <td>0.659710</td>\n",
       "    </tr>\n",
       "    <tr>\n",
       "      <th>(SLBP,)</th>\n",
       "      <td>0.907080</td>\n",
       "      <td>0.855591</td>\n",
       "      <td>0.542757</td>\n",
       "    </tr>\n",
       "  </tbody>\n",
       "</table>\n",
       "</div>"
      ],
      "text/plain": [
       "                               LDA       KNN       SVM\n",
       "(AdaptiveHybridPattern,)  0.944169  0.845136  0.476436\n",
       "(dtcwt,)                  0.912742  0.043195  0.042759\n",
       "(fdsurfft,)               0.595100  0.537957  0.410974\n",
       "(FLBP,)                   0.902725  0.856467  0.609518\n",
       "(fourier,)                0.670997  0.443729  0.183231\n",
       "(fractal,)                0.781420  0.352090  0.152700\n",
       "(gabor,)                  0.886577  0.641821  0.468608\n",
       "(lbpv,)                   0.530106  0.499558  0.134809\n",
       "(lbp,)                    0.854293  0.841640  0.582011\n",
       "(LCP,)                    0.910131  0.585092  0.343372\n",
       "(LFD,)                    0.830727  0.794509  0.482518\n",
       "(LOSIB,)                  0.542324  0.418417  0.217722\n",
       "(LPQ,)                    0.851652  0.873915  0.659710\n",
       "(SLBP,)                   0.907080  0.855591  0.542757"
      ]
     },
     "metadata": {},
     "output_type": "display_data"
    }
   ],
   "source": [
    "display(df)\n",
    "\n"
   ]
  },
  {
   "cell_type": "code",
   "execution_count": 15,
   "id": "1e9f8ba8",
   "metadata": {},
   "outputs": [],
   "source": [
    "latex_code = df.to_latex(index=True)\n"
   ]
  },
  {
   "cell_type": "code",
   "execution_count": 16,
   "id": "875e881b",
   "metadata": {},
   "outputs": [
    {
     "name": "stdout",
     "output_type": "stream",
     "text": [
      "\\begin{tabular}{lrrr}\n",
      "\\toprule\n",
      " & LDA & KNN & SVM \\\\\n",
      "\\midrule\n",
      "('AdaptiveHybridPattern',) & 0.944169 & 0.845136 & 0.476436 \\\\\n",
      "('dtcwt',) & 0.912742 & 0.043195 & 0.042759 \\\\\n",
      "('fdsurfft',) & 0.595100 & 0.537957 & 0.410974 \\\\\n",
      "('FLBP',) & 0.902725 & 0.856467 & 0.609518 \\\\\n",
      "('fourier',) & 0.670997 & 0.443729 & 0.183231 \\\\\n",
      "('fractal',) & 0.781420 & 0.352090 & 0.152700 \\\\\n",
      "('gabor',) & 0.886577 & 0.641821 & 0.468608 \\\\\n",
      "('lbpv',) & 0.530106 & 0.499558 & 0.134809 \\\\\n",
      "('lbp',) & 0.854293 & 0.841640 & 0.582011 \\\\\n",
      "('LCP',) & 0.910131 & 0.585092 & 0.343372 \\\\\n",
      "('LFD',) & 0.830727 & 0.794509 & 0.482518 \\\\\n",
      "('LOSIB',) & 0.542324 & 0.418417 & 0.217722 \\\\\n",
      "('LPQ',) & 0.851652 & 0.873915 & 0.659710 \\\\\n",
      "('SLBP',) & 0.907080 & 0.855591 & 0.542757 \\\\\n",
      "\\bottomrule\n",
      "\\end{tabular}\n",
      "\n"
     ]
    }
   ],
   "source": [
    "print(latex_code)"
   ]
  },
  {
   "cell_type": "code",
   "execution_count": null,
   "id": "1b62dd91",
   "metadata": {},
   "outputs": [],
   "source": []
  }
 ],
 "metadata": {
  "kernelspec": {
   "display_name": "Python 3 (ipykernel)",
   "language": "python",
   "name": "python3"
  },
  "language_info": {
   "codemirror_mode": {
    "name": "ipython",
    "version": 3
   },
   "file_extension": ".py",
   "mimetype": "text/x-python",
   "name": "python",
   "nbconvert_exporter": "python",
   "pygments_lexer": "ipython3",
   "version": "3.11.5"
  }
 },
 "nbformat": 4,
 "nbformat_minor": 5
}
